{
 "cells": [
  {
   "cell_type": "code",
   "execution_count": 1,
   "metadata": {},
   "outputs": [],
   "source": [
    "import pandas as pd\n",
    "from pymbtiles import MBtiles\n",
    "import pickle as pk\n",
    "import sqlite3\n",
    "import sqlite3\n",
    "import osmium\n",
    "import MBTiles2img "
   ]
  },
  {
   "cell_type": "code",
   "execution_count": 2,
   "metadata": {},
   "outputs": [],
   "source": [
    "df = pk.load(open('../datasets/abakan_full_routes_deeptte_urban.pkl', 'rb'))\n",
    "geo = df.edges_geo"
   ]
  },
  {
   "cell_type": "code",
   "execution_count": 3,
   "metadata": {},
   "outputs": [
    {
     "data": {
      "text/plain": [
       "{'attribution': '<a href=\"http://www.openmaptiles.org/\" target=\"_blank\">&copy; OpenMapTiles</a> <a href=\"http://www.openstreetmap.org/about/\" target=\"_blank\">&copy; OpenStreetMap contributors</a>',\n",
       " 'center': '108.99404000000001,65.45424,14',\n",
       " 'description': 'Extract from https://openmaptiles.org',\n",
       " 'maxzoom': '14',\n",
       " 'minzoom': '0',\n",
       " 'name': 'OpenMapTiles',\n",
       " 'pixel_scale': '256',\n",
       " 'mtime': '1499626373833',\n",
       " 'format': 'pbf',\n",
       " 'id': 'openmaptiles',\n",
       " 'version': '3.6.1',\n",
       " 'maskLevel': '5',\n",
       " 'bounds': '70.27478,49.02101,147.7133,81.88747',\n",
       " 'planettime': '1499040000000',\n",
       " 'json': '{\"vector_layers\":[{\"maxzoom\":14,\"fields\":{\"class\":\"String\"},\"minzoom\":0,\"id\":\"water\",\"description\":\"\"},{\"maxzoom\":14,\"fields\":{\"name:mt\":\"String\",\"name:pt\":\"String\",\"name:az\":\"String\",\"name:ka\":\"String\",\"name:rm\":\"String\",\"name:ko\":\"String\",\"name:kn\":\"String\",\"name:ar\":\"String\",\"name:cs\":\"String\",\"name_de\":\"String\",\"name:ro\":\"String\",\"name:it\":\"String\",\"name_int\":\"String\",\"name:ru\":\"String\",\"name:pl\":\"String\",\"name:ca\":\"String\",\"name:lv\":\"String\",\"name:bg\":\"String\",\"name:cy\":\"String\",\"name:fi\":\"String\",\"name:he\":\"String\",\"name:da\":\"String\",\"name:de\":\"String\",\"name:tr\":\"String\",\"name:fr\":\"String\",\"name:mk\":\"String\",\"name:nonlatin\":\"String\",\"name:fy\":\"String\",\"name:be\":\"String\",\"name:zh\":\"String\",\"name:sr\":\"String\",\"name:sl\":\"String\",\"name:nl\":\"String\",\"name:ja\":\"String\",\"name:lt\":\"String\",\"name:no\":\"String\",\"name:kk\":\"String\",\"name:ko_rm\":\"String\",\"name:ja_rm\":\"String\",\"name:br\":\"String\",\"name:bs\":\"String\",\"name:lb\":\"String\",\"name:la\":\"String\",\"name:sk\":\"String\",\"name:uk\":\"String\",\"name:hy\":\"String\",\"name:sv\":\"String\",\"name_en\":\"String\",\"name:hu\":\"String\",\"name:hr\":\"String\",\"class\":\"String\",\"name:sq\":\"String\",\"name:el\":\"String\",\"name:ga\":\"String\",\"name:en\":\"String\",\"name\":\"String\",\"name:gd\":\"String\",\"name:ja_kana\":\"String\",\"name:is\":\"String\",\"name:th\":\"String\",\"name:latin\":\"String\",\"name:sr-Latn\":\"String\",\"name:et\":\"String\",\"name:es\":\"String\"},\"minzoom\":0,\"id\":\"waterway\",\"description\":\"\"},{\"maxzoom\":14,\"fields\":{\"class\":\"String\",\"subclass\":\"String\"},\"minzoom\":0,\"id\":\"landcover\",\"description\":\"\"},{\"maxzoom\":14,\"fields\":{\"class\":\"String\"},\"minzoom\":0,\"id\":\"landuse\",\"description\":\"\"},{\"maxzoom\":14,\"fields\":{\"name:mt\":\"String\",\"name:pt\":\"String\",\"name:az\":\"String\",\"name:ka\":\"String\",\"name:rm\":\"String\",\"name:ko\":\"String\",\"name:kn\":\"String\",\"name:ar\":\"String\",\"name:cs\":\"String\",\"rank\":\"Number\",\"name_de\":\"String\",\"name:ro\":\"String\",\"name:it\":\"String\",\"name_int\":\"String\",\"name:lv\":\"String\",\"name:pl\":\"String\",\"name:de\":\"String\",\"name:ca\":\"String\",\"name:bg\":\"String\",\"name:cy\":\"String\",\"name:fi\":\"String\",\"name:he\":\"String\",\"name:da\":\"String\",\"ele\":\"Number\",\"name:tr\":\"String\",\"name:fr\":\"String\",\"name:mk\":\"String\",\"name:nonlatin\":\"String\",\"name:fy\":\"String\",\"name:be\":\"String\",\"name:zh\":\"String\",\"name:sl\":\"String\",\"name:nl\":\"String\",\"name:ja\":\"String\",\"name:lt\":\"String\",\"name:no\":\"String\",\"name:kk\":\"String\",\"name:ko_rm\":\"String\",\"name:ja_rm\":\"String\",\"name:br\":\"String\",\"name:bs\":\"String\",\"name:lb\":\"String\",\"name:la\":\"String\",\"name:sk\":\"String\",\"name:uk\":\"String\",\"name:hy\":\"String\",\"name:ru\":\"String\",\"name:sv\":\"String\",\"name_en\":\"String\",\"name:hu\":\"String\",\"name:hr\":\"String\",\"name:sr\":\"String\",\"name:sq\":\"String\",\"name:el\":\"String\",\"name:ga\":\"String\",\"name:en\":\"String\",\"name\":\"String\",\"name:gd\":\"String\",\"ele_ft\":\"Number\",\"name:ja_kana\":\"String\",\"name:is\":\"String\",\"osm_id\":\"Number\",\"name:th\":\"String\",\"name:latin\":\"String\",\"name:sr-Latn\":\"String\",\"name:et\":\"String\",\"name:es\":\"String\"},\"minzoom\":0,\"id\":\"mountain_peak\",\"description\":\"\"},{\"maxzoom\":14,\"fields\":{\"class\":\"String\"},\"minzoom\":0,\"id\":\"park\",\"description\":\"\"},{\"maxzoom\":14,\"fields\":{\"admin_level\":\"Number\",\"disputed\":\"Number\",\"maritime\":\"Number\"},\"minzoom\":0,\"id\":\"boundary\",\"description\":\"\"},{\"maxzoom\":14,\"fields\":{\"class\":\"String\"},\"minzoom\":0,\"id\":\"aeroway\",\"description\":\"\"},{\"maxzoom\":14,\"fields\":{\"brunnel\":\"String\",\"ramp\":\"Number\",\"class\":\"String\",\"service\":\"String\",\"oneway\":\"Number\"},\"minzoom\":0,\"id\":\"transportation\",\"description\":\"\"},{\"maxzoom\":14,\"fields\":{\"render_min_height\":\"Number\",\"render_height\":\"Number\"},\"minzoom\":0,\"id\":\"building\",\"description\":\"\"},{\"maxzoom\":14,\"fields\":{\"name:mt\":\"String\",\"name:pt\":\"String\",\"name:az\":\"String\",\"name:ka\":\"String\",\"name:rm\":\"String\",\"name:ko\":\"String\",\"name:kn\":\"String\",\"name:ar\":\"String\",\"name:cs\":\"String\",\"name_de\":\"String\",\"name:ro\":\"String\",\"name:it\":\"String\",\"name_int\":\"String\",\"name:ru\":\"String\",\"name:pl\":\"String\",\"name:ca\":\"String\",\"name:lv\":\"String\",\"name:bg\":\"String\",\"name:cy\":\"String\",\"name:fi\":\"String\",\"name:he\":\"String\",\"name:da\":\"String\",\"name:de\":\"String\",\"name:tr\":\"String\",\"name:fr\":\"String\",\"name:mk\":\"String\",\"name:nonlatin\":\"String\",\"name:fy\":\"String\",\"name:be\":\"String\",\"name:zh\":\"String\",\"name:sr\":\"String\",\"name:sl\":\"String\",\"name:nl\":\"String\",\"name:ja\":\"String\",\"name:lt\":\"String\",\"name:no\":\"String\",\"name:kk\":\"String\",\"name:ko_rm\":\"String\",\"name:ja_rm\":\"String\",\"name:br\":\"String\",\"name:bs\":\"String\",\"name:lb\":\"String\",\"name:la\":\"String\",\"name:sk\":\"String\",\"name:uk\":\"String\",\"name:hy\":\"String\",\"name:sv\":\"String\",\"name_en\":\"String\",\"name:hu\":\"String\",\"name:hr\":\"String\",\"class\":\"String\",\"name:sq\":\"String\",\"name:el\":\"String\",\"name:ga\":\"String\",\"name:en\":\"String\",\"name\":\"String\",\"name:gd\":\"String\",\"name:ja_kana\":\"String\",\"name:is\":\"String\",\"name:th\":\"String\",\"name:latin\":\"String\",\"name:sr-Latn\":\"String\",\"name:et\":\"String\",\"name:es\":\"String\"},\"minzoom\":0,\"id\":\"water_name\",\"description\":\"\"},{\"maxzoom\":14,\"fields\":{\"name:mt\":\"String\",\"name:pt\":\"String\",\"name:az\":\"String\",\"name:ka\":\"String\",\"name:rm\":\"String\",\"name:ko\":\"String\",\"name:kn\":\"String\",\"name:ar\":\"String\",\"name:cs\":\"String\",\"name_de\":\"String\",\"name:ro\":\"String\",\"name:it\":\"String\",\"name_int\":\"String\",\"name:ru\":\"String\",\"name:pl\":\"String\",\"name:ca\":\"String\",\"name:lv\":\"String\",\"name:bg\":\"String\",\"name:cy\":\"String\",\"name:fi\":\"String\",\"name:he\":\"String\",\"name:da\":\"String\",\"name:de\":\"String\",\"name:tr\":\"String\",\"name:fr\":\"String\",\"name:mk\":\"String\",\"name:nonlatin\":\"String\",\"name:fy\":\"String\",\"name:be\":\"String\",\"name:zh\":\"String\",\"name:sr\":\"String\",\"name:sl\":\"String\",\"name:nl\":\"String\",\"name:ja\":\"String\",\"name:lt\":\"String\",\"name:no\":\"String\",\"name:kk\":\"String\",\"name:ko_rm\":\"String\",\"name:ja_rm\":\"String\",\"name:br\":\"String\",\"name:bs\":\"String\",\"name:lb\":\"String\",\"name:la\":\"String\",\"name:sk\":\"String\",\"name:uk\":\"String\",\"name:hy\":\"String\",\"name:sv\":\"String\",\"name_en\":\"String\",\"name:hu\":\"String\",\"name:hr\":\"String\",\"class\":\"String\",\"name:sq\":\"String\",\"network\":\"String\",\"name:el\":\"String\",\"name:ga\":\"String\",\"name:en\":\"String\",\"name\":\"String\",\"name:gd\":\"String\",\"ref\":\"String\",\"name:ja_kana\":\"String\",\"ref_length\":\"Number\",\"name:is\":\"String\",\"name:th\":\"String\",\"name:latin\":\"String\",\"name:sr-Latn\":\"String\",\"name:et\":\"String\",\"name:es\":\"String\"},\"minzoom\":0,\"id\":\"transportation_name\",\"description\":\"\"},{\"maxzoom\":14,\"fields\":{\"name:mt\":\"String\",\"name:pt\":\"String\",\"name:az\":\"String\",\"name:ka\":\"String\",\"name:rm\":\"String\",\"name:ko\":\"String\",\"name:kn\":\"String\",\"name:ar\":\"String\",\"name:cs\":\"String\",\"rank\":\"Number\",\"name_de\":\"String\",\"name:ro\":\"String\",\"name:it\":\"String\",\"name_int\":\"String\",\"name:ru\":\"String\",\"name:pl\":\"String\",\"name:ca\":\"String\",\"name:lv\":\"String\",\"name:bg\":\"String\",\"name:cy\":\"String\",\"name:hr\":\"String\",\"name:fi\":\"String\",\"name:he\":\"String\",\"name:da\":\"String\",\"name:de\":\"String\",\"name:tr\":\"String\",\"name:fr\":\"String\",\"name:mk\":\"String\",\"name:nonlatin\":\"String\",\"name:fy\":\"String\",\"name:be\":\"String\",\"name:zh\":\"String\",\"name:sr\":\"String\",\"name:sl\":\"String\",\"name:nl\":\"String\",\"name:ja\":\"String\",\"name:ko_rm\":\"String\",\"name:no\":\"String\",\"name:kk\":\"String\",\"capital\":\"Number\",\"name:ja_rm\":\"String\",\"name:br\":\"String\",\"name:bs\":\"String\",\"name:lb\":\"String\",\"name:la\":\"String\",\"name:sk\":\"String\",\"name:uk\":\"String\",\"name:hy\":\"String\",\"name:sv\":\"String\",\"name_en\":\"String\",\"name:hu\":\"String\",\"name:lt\":\"String\",\"class\":\"String\",\"name:sq\":\"String\",\"name:el\":\"String\",\"name:ga\":\"String\",\"name:en\":\"String\",\"name\":\"String\",\"name:gd\":\"String\",\"name:ja_kana\":\"String\",\"name:is\":\"String\",\"name:th\":\"String\",\"name:latin\":\"String\",\"name:sr-Latn\":\"String\",\"name:et\":\"String\",\"name:es\":\"String\"},\"minzoom\":0,\"id\":\"place\",\"description\":\"\"},{\"maxzoom\":14,\"fields\":{\"housenumber\":\"String\"},\"minzoom\":0,\"id\":\"housenumber\",\"description\":\"\"},{\"maxzoom\":14,\"fields\":{\"name:mt\":\"String\",\"name:pt\":\"String\",\"name:az\":\"String\",\"name:ka\":\"String\",\"name:rm\":\"String\",\"name:ko\":\"String\",\"name:kn\":\"String\",\"name:ar\":\"String\",\"name:cs\":\"String\",\"rank\":\"Number\",\"name_de\":\"String\",\"name:ro\":\"String\",\"name:it\":\"String\",\"name_int\":\"String\",\"name:ru\":\"String\",\"name:pl\":\"String\",\"name:ca\":\"String\",\"name:lv\":\"String\",\"name:bg\":\"String\",\"name:cy\":\"String\",\"name:fi\":\"String\",\"name:he\":\"String\",\"name:da\":\"String\",\"subclass\":\"String\",\"name:de\":\"String\",\"name:tr\":\"String\",\"name:fr\":\"String\",\"name:mk\":\"String\",\"name:nonlatin\":\"String\",\"name:fy\":\"String\",\"name:be\":\"String\",\"name:zh\":\"String\",\"name:sr\":\"String\",\"name:sl\":\"String\",\"name:nl\":\"String\",\"name:ja\":\"String\",\"name:lt\":\"String\",\"name:no\":\"String\",\"name:kk\":\"String\",\"name:ko_rm\":\"String\",\"name:ja_rm\":\"String\",\"name:br\":\"String\",\"name:bs\":\"String\",\"name:lb\":\"String\",\"name:la\":\"String\",\"name:sk\":\"String\",\"name:uk\":\"String\",\"name:hy\":\"String\",\"name:sv\":\"String\",\"name_en\":\"String\",\"name:hu\":\"String\",\"name:hr\":\"String\",\"class\":\"String\",\"name:sq\":\"String\",\"name:el\":\"String\",\"name:ga\":\"String\",\"name:en\":\"String\",\"name\":\"String\",\"name:gd\":\"String\",\"name:ja_kana\":\"String\",\"name:is\":\"String\",\"name:th\":\"String\",\"name:latin\":\"String\",\"name:sr-Latn\":\"String\",\"name:et\":\"String\",\"name:es\":\"String\"},\"minzoom\":0,\"id\":\"poi\",\"description\":\"\"}]}',\n",
       " 'basename': 'russia_siberian-fed-district.mbtiles'}"
      ]
     },
     "execution_count": 3,
     "metadata": {},
     "output_type": "execute_result"
    }
   ],
   "source": [
    "MBtiles('../maps/2017-07-03_russia_siberian-fed-district.mbtiles').meta"
   ]
  },
  {
   "cell_type": "code",
   "execution_count": 5,
   "metadata": {},
   "outputs": [
    {
     "ename": "NameError",
     "evalue": "name 'src' is not defined",
     "output_type": "error",
     "traceback": [
      "\u001b[1;31m---------------------------------------------------------------------------\u001b[0m",
      "\u001b[1;31mNameError\u001b[0m                                 Traceback (most recent call last)",
      "\u001b[1;32mc:\\Temp\\TTE\\notebooks\\map_explore.ipynb Cell 4'\u001b[0m in \u001b[0;36m<cell line: 1>\u001b[1;34m()\u001b[0m\n\u001b[1;32m----> <a href='vscode-notebook-cell:/c%3A/Temp/TTE/notebooks/map_explore.ipynb#ch0000003?line=0'>1</a>\u001b[0m \u001b[39mprint\u001b[39m(src\u001b[39m.\u001b[39mhas_tile(z \u001b[39m=\u001b[39m \u001b[39m14\u001b[39m, x \u001b[39m=\u001b[39m \u001b[39mfloat\u001b[39m(geo[\u001b[39m0\u001b[39m][\u001b[39m0\u001b[39m][\u001b[39m0\u001b[39m]), y \u001b[39m=\u001b[39m \u001b[39mfloat\u001b[39m(geo[\u001b[39m0\u001b[39m][\u001b[39m0\u001b[39m][\u001b[39m1\u001b[39m])))\n",
      "\u001b[1;31mNameError\u001b[0m: name 'src' is not defined"
     ]
    }
   ],
   "source": [
    "print(src.has_tile(z = 14, x = float(geo[0][0][0]), y = float(geo[0][0][1])))"
   ]
  },
  {
   "cell_type": "markdown",
   "metadata": {},
   "source": [
    "SQLite reading method"
   ]
  },
  {
   "cell_type": "code",
   "execution_count": 6,
   "metadata": {},
   "outputs": [],
   "source": [
    "db = sqlite3.connect('../maps/2017-07-03_russia_siberian-fed-district.mbtiles')\n",
    "cur = db.cursor()"
   ]
  },
  {
   "cell_type": "code",
   "execution_count": 7,
   "metadata": {},
   "outputs": [],
   "source": [
    "images = [i[0] for i in cur.execute(\"SELECT tile_data FROM images\").fetchall()]"
   ]
  },
  {
   "cell_type": "code",
   "execution_count": 14,
   "metadata": {},
   "outputs": [
    {
     "data": {
      "text/plain": [
       "b\"\\x1f\\x8b\\x08\\x00\\x00\\x00\\x00\\x00\\x00\\x03\\x93\\x8a\\xae`\\xe2\\xe2+)J\\xcc+.\\xc8/*I,\\xc9\\xcc\\xcf\\xd3hP\\x90bM\\xceI,.V\\xe2\\xe2\\xe2(I-*\\xc9L,\\xaa\\x94b\\xcb\\xcfK-O\\xacTbR`\\x90b)J\\xcc-\\x10\\x92\\x97`R\\x12\\xe4\\xdc\\xa3]/\\xf5\\x85\\xef\\r\\xcf4\\xc6E\\x8c\\xbbX\\x0fpp0\\n\\xb1100221J\\xcde\\x04\\x9a\\xceZ\\x90\\x93\\x98\\x9c\\x8ad(\\x07\\x17[FbnNj\\x89\\x14K^bn\\xaa\\x12\\x1f\\x17\\xcf\\x85\\x85\\x17\\xf6]\\xd8{a\\xc3\\x85\\xdd\\x17\\xbb\\xa5\\xb8@\\xa2V9@\\xb7\\xe4\\x81\\xd4\\x06\\xe7\\xe7%\\xe6TJ\\xf1\\x82E\\xf3\\xf2\\xf3\\xc0\\x12R\\xec n|J*\\x94\\x91\\x9a'\\xc5\\x01fd\\xe6\\x95\\x80\\\\\\x97\\x97\\rt'\\xb7\\x90\\xac\\x04\\xa3\\x12+\\xe7\\x13\\xe5\\xad\\x06@W\\t\\x80]\\xc5\\xc4\\xcc\\xc8\\xc2\\xc8\\xca\\xc8\\xc6\\xc4\\xce\\x0c\\x00X2f\\xc6\\xfd\\x00\\x00\\x00\""
      ]
     },
     "execution_count": 14,
     "metadata": {},
     "output_type": "execute_result"
    }
   ],
   "source": [
    "images[0]"
   ]
  },
  {
   "cell_type": "code",
   "execution_count": 8,
   "metadata": {},
   "outputs": [],
   "source": [
    "coords = [i[0] for i in cur.execute(\"SELECT tile_id FROM images\").fetchall()]"
   ]
  },
  {
   "cell_type": "code",
   "execution_count": 9,
   "metadata": {},
   "outputs": [],
   "source": [
    "hll = []\n",
    "for coord in coords:\n",
    "    hll += (coord.split('/'), )"
   ]
  },
  {
   "cell_type": "code",
   "execution_count": 12,
   "metadata": {},
   "outputs": [],
   "source": [
    "import png"
   ]
  },
  {
   "cell_type": "code",
   "execution_count": 10,
   "metadata": {},
   "outputs": [
    {
     "data": {
      "text/plain": [
       "bytes"
      ]
     },
     "execution_count": 10,
     "metadata": {},
     "output_type": "execute_result"
    }
   ],
   "source": [
    "type(images[0])"
   ]
  },
  {
   "cell_type": "code",
   "execution_count": 11,
   "metadata": {},
   "outputs": [],
   "source": [
    "import mbtilesToPngs"
   ]
  },
  {
   "cell_type": "code",
   "execution_count": 12,
   "metadata": {},
   "outputs": [
    {
     "data": {
      "text/plain": [
       "<module 'mbtilesToPngs' (namespace)>"
      ]
     },
     "execution_count": 12,
     "metadata": {},
     "output_type": "execute_result"
    }
   ],
   "source": [
    "mbtilesToPngs"
   ]
  }
 ],
 "metadata": {
  "interpreter": {
   "hash": "feaf46365bde30184610466a9503d1c5227e63f201b698e3090b62c1c3b7cd1d"
  },
  "kernelspec": {
   "display_name": "Python 3.9.6 ('env': venv)",
   "language": "python",
   "name": "python3"
  },
  "language_info": {
   "codemirror_mode": {
    "name": "ipython",
    "version": 3
   },
   "file_extension": ".py",
   "mimetype": "text/x-python",
   "name": "python",
   "nbconvert_exporter": "python",
   "pygments_lexer": "ipython3",
   "version": "3.9.6"
  },
  "orig_nbformat": 4
 },
 "nbformat": 4,
 "nbformat_minor": 2
}
