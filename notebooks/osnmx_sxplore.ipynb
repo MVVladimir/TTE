{
 "cells": [
  {
   "cell_type": "code",
   "execution_count": 1,
   "metadata": {},
   "outputs": [],
   "source": [
    "import osmnx as ox\n",
    "import pandas as pd\n",
    "import pickle as pk\n",
    "import matplotlib.pyplot as plt"
   ]
  },
  {
   "cell_type": "code",
   "execution_count": 2,
   "metadata": {},
   "outputs": [],
   "source": [
    "coords = pk.load(open('../datasets/abakan_full_routes_deeptte_urban.pkl', 'rb')).edges_geo"
   ]
  },
  {
   "cell_type": "code",
   "execution_count": 3,
   "metadata": {},
   "outputs": [
    {
     "data": {
      "text/plain": [
       "0         [[91.44752843785, 53.7087046931], [91.44770594...\n",
       "2         [[91.4237220048, 53.72369937995], [91.42766219...\n",
       "4         [[91.40053801445, 53.70246281705], [91.4009391...\n",
       "5         [[91.4201630593, 53.738121163049996], [91.4214...\n",
       "8         [[91.42058688445, 53.72837416995], [91.4214065...\n",
       "                                ...                        \n",
       "122355    [[91.4402370372, 53.734115891849996], [91.4400...\n",
       "122359    [[91.43217182785, 53.69422431275], [91.4318304...\n",
       "122360    [[91.44607190945001, 53.725109522349996], [91....\n",
       "122362    [[91.49108379335, 53.707058982199996], [91.490...\n",
       "122363    [[91.4557347276, 53.72535209655], [91.45538932...\n",
       "Name: edges_geo, Length: 86366, dtype: object"
      ]
     },
     "execution_count": 3,
     "metadata": {},
     "output_type": "execute_result"
    }
   ],
   "source": [
    "coords"
   ]
  },
  {
   "cell_type": "code",
   "execution_count": 4,
   "metadata": {},
   "outputs": [],
   "source": [
    "for path in coords:\n",
    "    for coord in path:\n",
    "        x = coord[0]\n",
    "        coord[0] = coord[1]\n",
    "        coord[1] = x"
   ]
  },
  {
   "cell_type": "code",
   "execution_count": 5,
   "metadata": {},
   "outputs": [
    {
     "name": "stdout",
     "output_type": "stream",
     "text": [
      "7853220\n"
     ]
    }
   ],
   "source": [
    "size = 0\n",
    "for path in coords:\n",
    "    size += path.size\n",
    "print(size)"
   ]
  },
  {
   "cell_type": "code",
   "execution_count": 6,
   "metadata": {},
   "outputs": [
    {
     "data": {
      "text/plain": [
       "0         [[53.7087046931, 91.44752843785], [53.70874318...\n",
       "2         [[53.72369937995, 91.4237220048], [53.72606540...\n",
       "4         [[53.70246281705, 91.40053801445], [53.7026021...\n",
       "5         [[53.738121163049996, 91.4201630593], [53.7391...\n",
       "8         [[53.72837416995, 91.42058688445], [53.7288224...\n",
       "                                ...                        \n",
       "122355    [[53.734115891849996, 91.4402370372], [53.7347...\n",
       "122359    [[53.69422431275, 91.43217182785], [53.6949184...\n",
       "122360    [[53.725109522349996, 91.44607190945001], [53....\n",
       "122362    [[53.707058982199996, 91.49108379335], [53.707...\n",
       "122363    [[53.72535209655, 91.4557347276], [53.72629702...\n",
       "Name: edges_geo, Length: 86366, dtype: object"
      ]
     },
     "execution_count": 6,
     "metadata": {},
     "output_type": "execute_result"
    }
   ],
   "source": [
    "coords"
   ]
  },
  {
   "cell_type": "code",
   "execution_count": 7,
   "metadata": {},
   "outputs": [],
   "source": [
    "geom = ox.geometries_from_point(coords[0][0], tags={\"building\": True, \"highway\": True}, dist=200)"
   ]
  },
  {
   "cell_type": "code",
   "execution_count": 10,
   "metadata": {},
   "outputs": [
    {
     "name": "stderr",
     "output_type": "stream",
     "text": [
      "C:\\Anaconda3\\envs\\ox\\lib\\site-packages\\geopandas\\plotting.py:74: DeprecationWarning: distutils Version classes are deprecated. Use packaging.version instead.\n",
      "  if mpl >= LooseVersion(\"3.4\") or (mpl > LooseVersion(\"3.3.2\") and \"+\" in mpl):\n",
      "C:\\Anaconda3\\envs\\ox\\lib\\site-packages\\setuptools\\_distutils\\version.py:351: DeprecationWarning: distutils Version classes are deprecated. Use packaging.version instead.\n",
      "  other = LooseVersion(other)\n",
      "C:\\Anaconda3\\envs\\ox\\lib\\site-packages\\geopandas\\plotting.py:74: DeprecationWarning: distutils Version classes are deprecated. Use packaging.version instead.\n",
      "  if mpl >= LooseVersion(\"3.4\") or (mpl > LooseVersion(\"3.3.2\") and \"+\" in mpl):\n",
      "C:\\Anaconda3\\envs\\ox\\lib\\site-packages\\setuptools\\_distutils\\version.py:351: DeprecationWarning: distutils Version classes are deprecated. Use packaging.version instead.\n",
      "  other = LooseVersion(other)\n"
     ]
    },
    {
     "data": {
      "image/png": "[encoded data removed]",
      "text/plain": [
       "<Figure size 432x288 with 1 Axes>"
      ]
     },
     "metadata": {
      "needs_background": "light"
     },
     "output_type": "display_data"
    }
   ],
   "source": [
    "geom.plot()\n",
    "plt.savefig(\"../pngs/\" + str(coord) + \".png\")"
   ]
  },
  {
   "cell_type": "code",
   "execution_count": 9,
   "metadata": {},
   "outputs": [
    {
     "data": {
      "text/plain": [
       "<Figure size 432x288 with 0 Axes>"
      ]
     },
     "metadata": {},
     "output_type": "display_data"
    }
   ],
   "source": [
    "plt.savefig(\"../pngs/\" + str(coord) + \".png\")"
   ]
  },
  {
   "cell_type": "code",
   "execution_count": null,
   "metadata": {},
   "outputs": [],
   "source": [
    "for path in coords:\n",
    "    for coord in path:\n",
    "        geom = ox.geometries_from_point(coord, tags={\"building\": True, \"highway\": True}, dist=200)\n",
    "        plot = geom.plot\n",
    "        plt.savefig(\"../pngs/\" + str(coord) + \".png\")"
   ]
  },
  {
   "cell_type": "code",
   "execution_count": null,
   "metadata": {},
   "outputs": [],
   "source": [
    "coords[0][0]"
   ]
  }
 ],
 "metadata": {
  "interpreter": {
   "hash": "25263ef131efe719b2253fa336b24fc9d68d97f71231b8ef484094fbfbd7aced"
  },
  "kernelspec": {
   "display_name": "Python 3.9.12 ('TTEMAPS')",
   "language": "python",
   "name": "python3"
  },
  "language_info": {
   "codemirror_mode": {
    "name": "ipython",
    "version": 3
   },
   "file_extension": ".py",
   "mimetype": "text/x-python",
   "name": "python",
   "nbconvert_exporter": "python",
   "pygments_lexer": "ipython3",
   "version": "3.10.4"
  },
  "orig_nbformat": 4
 },
 "nbformat": 4,
 "nbformat_minor": 2
}
