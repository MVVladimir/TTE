{
 "cells": [
  {
   "cell_type": "code",
   "execution_count": 1,
   "metadata": {},
   "outputs": [],
   "source": [
    "from sklearn.neighbors import BallTree\n",
    "from sklearn.neighbors import KNeighborsClassifier\n",
    "from sklearn.neighbors import NearestNeighbors\n",
    "import pandas as pd\n",
    "import pickle as pk\n",
    "import numpy as np\n"
   ]
  },
  {
   "cell_type": "markdown",
   "metadata": {},
   "source": [
    "# Data preparation"
   ]
  },
  {
   "cell_type": "code",
   "execution_count": 2,
   "metadata": {},
   "outputs": [],
   "source": [
    "coords = pk.load(open('../datasets/abakan_full_routes_deeptte_urban.pkl', 'rb')).edges_geo"
   ]
  },
  {
   "cell_type": "code",
   "execution_count": 3,
   "metadata": {},
   "outputs": [
    {
     "data": {
      "text/plain": [
       "86366"
      ]
     },
     "execution_count": 3,
     "metadata": {},
     "output_type": "execute_result"
    }
   ],
   "source": [
    "len(coords)"
   ]
  },
  {
   "cell_type": "markdown",
   "metadata": {},
   "source": [
    "Tips:\n",
    "- List your latitude coordinates before longitude coordinates.\n",
    "- Check that the first number in your latitude coordinate is between -90 and 90.\n",
    "- Check that the first number in your longitude coordinate is between -180 and 180.\n",
    "  \n",
    "To fix it we execute the following code:"
   ]
  },
  {
   "cell_type": "code",
   "execution_count": 4,
   "metadata": {},
   "outputs": [],
   "source": [
    "for path in coords:\n",
    "    for coord in path:\n",
    "        x = coord[0]\n",
    "        coord[0] = coord[1]\n",
    "        coord[1] = x"
   ]
  },
  {
   "cell_type": "code",
   "execution_count": 5,
   "metadata": {},
   "outputs": [
    {
     "data": {
      "text/plain": [
       "0         [[53.7087046931, 91.44752843785], [53.70874318...\n",
       "2         [[53.72369937995, 91.4237220048], [53.72606540...\n",
       "4         [[53.70246281705, 91.40053801445], [53.7026021...\n",
       "5         [[53.738121163049996, 91.4201630593], [53.7391...\n",
       "8         [[53.72837416995, 91.42058688445], [53.7288224...\n",
       "                                ...                        \n",
       "122355    [[53.734115891849996, 91.4402370372], [53.7347...\n",
       "122359    [[53.69422431275, 91.43217182785], [53.6949184...\n",
       "122360    [[53.725109522349996, 91.44607190945001], [53....\n",
       "122362    [[53.707058982199996, 91.49108379335], [53.707...\n",
       "122363    [[53.72535209655, 91.4557347276], [53.72629702...\n",
       "Name: edges_geo, Length: 86366, dtype: object"
      ]
     },
     "execution_count": 5,
     "metadata": {},
     "output_type": "execute_result"
    }
   ],
   "source": [
    "coords"
   ]
  },
  {
   "cell_type": "code",
   "execution_count": 6,
   "metadata": {},
   "outputs": [],
   "source": [
    "raw_coords = []\n",
    "for pair in coords:\n",
    "    for coord in pair:\n",
    "        raw_coords.append(coord)"
   ]
  },
  {
   "cell_type": "code",
   "execution_count": 7,
   "metadata": {},
   "outputs": [],
   "source": [
    "for i in raw_coords:\n",
    "    if (i[0] == 0):\n",
    "        print(str(i))"
   ]
  },
  {
   "cell_type": "code",
   "execution_count": 31,
   "metadata": {},
   "outputs": [
    {
     "data": {
      "text/plain": [
       "array([53.70870469, 91.44752844])"
      ]
     },
     "execution_count": 31,
     "metadata": {},
     "output_type": "execute_result"
    }
   ],
   "source": [
    "raw_coords[0]"
   ]
  },
  {
   "cell_type": "markdown",
   "metadata": {},
   "source": [
    "# BallTree"
   ]
  },
  {
   "cell_type": "markdown",
   "metadata": {},
   "source": [
    "The Haversine equation is used to determine the distance between two points (x and y) on the Earth based on a mean spherical earth radius.  The Haversine - Distance equation is important in navigation, giving great-circle distances between two points on a sphere from their longitudes and latitudes.\n",
    "\n",
    "<img src=\"https://www.vcalc.com/attachments/e6d11679-da27-11e2-8e97-bc764e04d25f/MaimiToLondon.JPG\" width=\"400\" />\n",
    "\n",
    "See more: https://www.vcalc.com/wiki/vCalc/Haversine+-+Distance "
   ]
  },
  {
   "cell_type": "markdown",
   "metadata": {},
   "source": [
    "n_neighbors = 7853220 / 2810 = 2 794,7, it might be ok to take 2 700."
   ]
  },
  {
   "cell_type": "code",
   "execution_count": 10,
   "metadata": {},
   "outputs": [],
   "source": [
    "nbrs = NearestNeighbors(n_neighbors=2700, algorithm='ball_tree', metric='haversine').fit(raw_coords)"
   ]
  },
  {
   "cell_type": "code",
   "execution_count": null,
   "metadata": {},
   "outputs": [],
   "source": [
    "nbrs = KNeighborsClassifier(n_neighbors=2700, algorithm='ball_tree', metric='haversine').fit(raw_coords)"
   ]
  },
  {
   "cell_type": "code",
   "execution_count": 60,
   "metadata": {},
   "outputs": [
    {
     "data": {
      "text/plain": [
       "2"
      ]
     },
     "execution_count": 60,
     "metadata": {},
     "output_type": "execute_result"
    }
   ],
   "source": [
    "nbrs.p"
   ]
  },
  {
   "cell_type": "code",
   "execution_count": 11,
   "metadata": {},
   "outputs": [],
   "source": [
    "tree = BallTree(raw_coords, metric='haversine')"
   ]
  },
  {
   "cell_type": "code",
   "execution_count": 16,
   "metadata": {},
   "outputs": [
    {
     "data": {
      "text/plain": [
       "sklearn.neighbors._ball_tree._memoryviewslice"
      ]
     },
     "execution_count": 16,
     "metadata": {},
     "output_type": "execute_result"
    }
   ],
   "source": [
    "tree.node_data"
   ]
  },
  {
   "cell_type": "markdown",
   "metadata": {},
   "source": [
    "# Clustering"
   ]
  },
  {
   "cell_type": "markdown",
   "metadata": {},
   "source": [
    "## K-means"
   ]
  },
  {
   "cell_type": "code",
   "execution_count": 19,
   "metadata": {},
   "outputs": [],
   "source": [
    "from sklearn.cluster import KMeans\n",
    "from sklearn.cluster import MiniBatchKMeans"
   ]
  },
  {
   "cell_type": "code",
   "execution_count": 20,
   "metadata": {},
   "outputs": [],
   "source": [
    "mbKMeans = MiniBatchKMeans(n_clusters = 8440, random_state = 0, batch_size=200000, max_iter=100)\n",
    "mbKMeans.fit(raw_coords)\n",
    "mbKMeans.cluster_centers_\n",
    "df = pd.DataFrame(mbKMeans.cluster_centers_)\n",
    "df.to_csv(\"../res/cluster_centers.csv\")"
   ]
  },
  {
   "cell_type": "code",
   "execution_count": 21,
   "metadata": {},
   "outputs": [
    {
     "data": {
      "text/html": [
       "<div>\n",
       "<style scoped>\n",
       "    .dataframe tbody tr th:only-of-type {\n",
       "        vertical-align: middle;\n",
       "    }\n",
       "\n",
       "    .dataframe tbody tr th {\n",
       "        vertical-align: top;\n",
       "    }\n",
       "\n",
       "    .dataframe thead th {\n",
       "        text-align: right;\n",
       "    }\n",
       "</style>\n",
       "<table border=\"1\" class=\"dataframe\">\n",
       "  <thead>\n",
       "    <tr style=\"text-align: right;\">\n",
       "      <th></th>\n",
       "      <th>0</th>\n",
       "      <th>1</th>\n",
       "    </tr>\n",
       "  </thead>\n",
       "  <tbody>\n",
       "    <tr>\n",
       "      <th>0</th>\n",
       "      <td>53.704767</td>\n",
       "      <td>91.433073</td>\n",
       "    </tr>\n",
       "    <tr>\n",
       "      <th>1</th>\n",
       "      <td>53.735717</td>\n",
       "      <td>91.469943</td>\n",
       "    </tr>\n",
       "    <tr>\n",
       "      <th>2</th>\n",
       "      <td>53.653767</td>\n",
       "      <td>91.576902</td>\n",
       "    </tr>\n",
       "    <tr>\n",
       "      <th>3</th>\n",
       "      <td>53.804274</td>\n",
       "      <td>91.337155</td>\n",
       "    </tr>\n",
       "    <tr>\n",
       "      <th>4</th>\n",
       "      <td>53.769334</td>\n",
       "      <td>91.396471</td>\n",
       "    </tr>\n",
       "    <tr>\n",
       "      <th>...</th>\n",
       "      <td>...</td>\n",
       "      <td>...</td>\n",
       "    </tr>\n",
       "    <tr>\n",
       "      <th>8435</th>\n",
       "      <td>53.702373</td>\n",
       "      <td>91.404976</td>\n",
       "    </tr>\n",
       "    <tr>\n",
       "      <th>8436</th>\n",
       "      <td>53.762392</td>\n",
       "      <td>91.394026</td>\n",
       "    </tr>\n",
       "    <tr>\n",
       "      <th>8437</th>\n",
       "      <td>53.725927</td>\n",
       "      <td>91.401658</td>\n",
       "    </tr>\n",
       "    <tr>\n",
       "      <th>8438</th>\n",
       "      <td>53.824557</td>\n",
       "      <td>91.343661</td>\n",
       "    </tr>\n",
       "    <tr>\n",
       "      <th>8439</th>\n",
       "      <td>53.739017</td>\n",
       "      <td>91.421266</td>\n",
       "    </tr>\n",
       "  </tbody>\n",
       "</table>\n",
       "<p>8440 rows × 2 columns</p>\n",
       "</div>"
      ],
      "text/plain": [
       "              0          1\n",
       "0     53.704767  91.433073\n",
       "1     53.735717  91.469943\n",
       "2     53.653767  91.576902\n",
       "3     53.804274  91.337155\n",
       "4     53.769334  91.396471\n",
       "...         ...        ...\n",
       "8435  53.702373  91.404976\n",
       "8436  53.762392  91.394026\n",
       "8437  53.725927  91.401658\n",
       "8438  53.824557  91.343661\n",
       "8439  53.739017  91.421266\n",
       "\n",
       "[8440 rows x 2 columns]"
      ]
     },
     "execution_count": 21,
     "metadata": {},
     "output_type": "execute_result"
    }
   ],
   "source": [
    "df"
   ]
  },
  {
   "cell_type": "markdown",
   "metadata": {},
   "source": [
    "# Birch"
   ]
  },
  {
   "cell_type": "code",
   "execution_count": 22,
   "metadata": {},
   "outputs": [],
   "source": [
    "from sklearn.cluster import Birch"
   ]
  },
  {
   "cell_type": "code",
   "execution_count": 23,
   "metadata": {},
   "outputs": [
    {
     "name": "stderr",
     "output_type": "stream",
     "text": [
      "c:\\Temp\\TTE\\env\\lib\\site-packages\\sklearn\\cluster\\_birch.py:717: ConvergenceWarning: Number of subclusters found (1) by BIRCH is less than (8440). Decrease the threshold.\n",
      "  warnings.warn(\n"
     ]
    },
    {
     "data": {
      "text/html": [
       "<div>\n",
       "<style scoped>\n",
       "    .dataframe tbody tr th:only-of-type {\n",
       "        vertical-align: middle;\n",
       "    }\n",
       "\n",
       "    .dataframe tbody tr th {\n",
       "        vertical-align: top;\n",
       "    }\n",
       "\n",
       "    .dataframe thead th {\n",
       "        text-align: right;\n",
       "    }\n",
       "</style>\n",
       "<table border=\"1\" class=\"dataframe\">\n",
       "  <thead>\n",
       "    <tr style=\"text-align: right;\">\n",
       "      <th></th>\n",
       "      <th>lat</th>\n",
       "      <th>lon</th>\n",
       "    </tr>\n",
       "  </thead>\n",
       "  <tbody>\n",
       "    <tr>\n",
       "      <th>0</th>\n",
       "      <td>53.723426</td>\n",
       "      <td>91.42806</td>\n",
       "    </tr>\n",
       "  </tbody>\n",
       "</table>\n",
       "</div>"
      ],
      "text/plain": [
       "         lat       lon\n",
       "0  53.723426  91.42806"
      ]
     },
     "execution_count": 23,
     "metadata": {},
     "output_type": "execute_result"
    }
   ],
   "source": [
    "birch = Birch(n_clusters=8440)\n",
    "birch.fit(raw_coords)\n",
    "df = pd.DataFrame(birch.clu, columns=['lat', 'lon'])\n",
    "df.to_csv(\"../res/birch_subcluster_centers.csv\")\n",
    "df"
   ]
  },
  {
   "cell_type": "code",
   "execution_count": 31,
   "metadata": {},
   "outputs": [
    {
     "name": "stderr",
     "output_type": "stream",
     "text": [
      "c:\\Temp\\TTE\\env\\lib\\site-packages\\sklearn\\cluster\\_birch.py:717: ConvergenceWarning: Number of subclusters found (1) by BIRCH is less than (8440). Decrease the threshold.\n",
      "  warnings.warn(\n"
     ]
    }
   ],
   "source": [
    "birch."
   ]
  },
  {
   "cell_type": "markdown",
   "metadata": {},
   "source": [
    "## AffinityPropagation"
   ]
  },
  {
   "cell_type": "markdown",
   "metadata": {},
   "source": [
    "<img src=\"https://scikit-learn.org/stable/_images/sphx_glr_plot_affinity_propagation_001.png\" width=\"300\">\n",
    "\n",
    "AffinityPropagation creates clusters by sending messages between pairs of samples until convergence. A dataset is then described using a small number of exemplars, which are identified as those most representative of other samples. The messages sent between pairs represent the suitability for one sample to be the exemplar of the other, which is updated in response to the values from other pairs. This updating happens iteratively until convergence, at which point the final exemplars are chosen, and hence the final clustering is given.\n",
    "\n"
   ]
  },
  {
   "cell_type": "code",
   "execution_count": 8,
   "metadata": {},
   "outputs": [],
   "source": [
    "df = pd.DataFrame(data=raw_coords, columns=['lan', 'lon'])"
   ]
  },
  {
   "cell_type": "code",
   "execution_count": 9,
   "metadata": {},
   "outputs": [
    {
     "data": {
      "text/html": [
       "<div>\n",
       "<style scoped>\n",
       "    .dataframe tbody tr th:only-of-type {\n",
       "        vertical-align: middle;\n",
       "    }\n",
       "\n",
       "    .dataframe tbody tr th {\n",
       "        vertical-align: top;\n",
       "    }\n",
       "\n",
       "    .dataframe thead th {\n",
       "        text-align: right;\n",
       "    }\n",
       "</style>\n",
       "<table border=\"1\" class=\"dataframe\">\n",
       "  <thead>\n",
       "    <tr style=\"text-align: right;\">\n",
       "      <th></th>\n",
       "      <th>lan</th>\n",
       "      <th>lon</th>\n",
       "    </tr>\n",
       "  </thead>\n",
       "  <tbody>\n",
       "    <tr>\n",
       "      <th>0</th>\n",
       "      <td>53.708705</td>\n",
       "      <td>91.447528</td>\n",
       "    </tr>\n",
       "    <tr>\n",
       "      <th>1</th>\n",
       "      <td>53.708743</td>\n",
       "      <td>91.447706</td>\n",
       "    </tr>\n",
       "    <tr>\n",
       "      <th>2</th>\n",
       "      <td>53.709851</td>\n",
       "      <td>91.446136</td>\n",
       "    </tr>\n",
       "    <tr>\n",
       "      <th>3</th>\n",
       "      <td>53.710516</td>\n",
       "      <td>91.446795</td>\n",
       "    </tr>\n",
       "    <tr>\n",
       "      <th>4</th>\n",
       "      <td>53.710323</td>\n",
       "      <td>91.447648</td>\n",
       "    </tr>\n",
       "    <tr>\n",
       "      <th>...</th>\n",
       "      <td>...</td>\n",
       "      <td>...</td>\n",
       "    </tr>\n",
       "    <tr>\n",
       "      <th>3926605</th>\n",
       "      <td>53.724629</td>\n",
       "      <td>91.456166</td>\n",
       "    </tr>\n",
       "    <tr>\n",
       "      <th>3926606</th>\n",
       "      <td>53.724917</td>\n",
       "      <td>91.456224</td>\n",
       "    </tr>\n",
       "    <tr>\n",
       "      <th>3926607</th>\n",
       "      <td>53.724752</td>\n",
       "      <td>91.455956</td>\n",
       "    </tr>\n",
       "    <tr>\n",
       "      <th>3926608</th>\n",
       "      <td>53.724670</td>\n",
       "      <td>91.455986</td>\n",
       "    </tr>\n",
       "    <tr>\n",
       "      <th>3926609</th>\n",
       "      <td>53.726972</td>\n",
       "      <td>91.455150</td>\n",
       "    </tr>\n",
       "  </tbody>\n",
       "</table>\n",
       "<p>3926610 rows × 2 columns</p>\n",
       "</div>"
      ],
      "text/plain": [
       "               lan        lon\n",
       "0        53.708705  91.447528\n",
       "1        53.708743  91.447706\n",
       "2        53.709851  91.446136\n",
       "3        53.710516  91.446795\n",
       "4        53.710323  91.447648\n",
       "...            ...        ...\n",
       "3926605  53.724629  91.456166\n",
       "3926606  53.724917  91.456224\n",
       "3926607  53.724752  91.455956\n",
       "3926608  53.724670  91.455986\n",
       "3926609  53.726972  91.455150\n",
       "\n",
       "[3926610 rows x 2 columns]"
      ]
     },
     "execution_count": 9,
     "metadata": {},
     "output_type": "execute_result"
    }
   ],
   "source": [
    "df"
   ]
  },
  {
   "cell_type": "code",
   "execution_count": 10,
   "metadata": {},
   "outputs": [],
   "source": [
    "from sklearn.cluster import AffinityPropagation"
   ]
  },
  {
   "cell_type": "code",
   "execution_count": 35,
   "metadata": {},
   "outputs": [],
   "source": [
    "pairs = df.apply(list, axis=1)"
   ]
  },
  {
   "cell_type": "code",
   "execution_count": 37,
   "metadata": {},
   "outputs": [
    {
     "data": {
      "text/plain": [
       "[[53.658468322350004, 91.47818389605],\n",
       " [53.72484682595, 91.37874488565001],\n",
       " [53.8276699158, 91.32422693955],\n",
       " [53.69521318345, 91.40062497139999],\n",
       " [53.72793215585, 91.44660833835],\n",
       " [53.7369598663, 91.4355140099],\n",
       " [53.7171570415, 91.40603309885],\n",
       " [53.8082498933, 91.32635455440001],\n",
       " [53.73118329895, 91.44123942235001],\n",
       " [53.7330141085, 91.4447002718]]"
      ]
     },
     "execution_count": 37,
     "metadata": {},
     "output_type": "execute_result"
    }
   ],
   "source": [
    "list(pairs.sample(10))"
   ]
  },
  {
   "cell_type": "code",
   "execution_count": 49,
   "metadata": {},
   "outputs": [
    {
     "name": "stderr",
     "output_type": "stream",
     "text": [
      "c:\\Temp\\TTE\\env\\lib\\site-packages\\sklearn\\cluster\\_affinity_propagation.py:250: ConvergenceWarning: Affinity propagation did not converge, this model will not have any cluster centers.\n",
      "  warnings.warn(\n"
     ]
    }
   ],
   "source": [
    "afPr = AffinityPropagation().fit(list(pairs.sample(10000)))"
   ]
  },
  {
   "cell_type": "code",
   "execution_count": 50,
   "metadata": {},
   "outputs": [
    {
     "data": {
      "text/plain": [
       "array([], shape=(0, 2), dtype=float64)"
      ]
     },
     "execution_count": 50,
     "metadata": {},
     "output_type": "execute_result"
    }
   ],
   "source": [
    "afPr.cluster_centers_"
   ]
  }
 ],
 "metadata": {
  "interpreter": {
   "hash": "feaf46365bde30184610466a9503d1c5227e63f201b698e3090b62c1c3b7cd1d"
  },
  "kernelspec": {
   "display_name": "Python 3.9.6 ('env': venv)",
   "language": "python",
   "name": "python3"
  },
  "language_info": {
   "codemirror_mode": {
    "name": "ipython",
    "version": 3
   },
   "file_extension": ".py",
   "mimetype": "text/x-python",
   "name": "python",
   "nbconvert_exporter": "python",
   "pygments_lexer": "ipython3",
   "version": "3.9.6"
  },
  "orig_nbformat": 4
 },
 "nbformat": 4,
 "nbformat_minor": 2
}
